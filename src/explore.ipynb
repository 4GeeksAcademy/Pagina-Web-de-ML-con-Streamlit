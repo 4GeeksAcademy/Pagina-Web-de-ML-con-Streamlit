{
    "cells": [
        {
            "cell_type": "markdown",
            "metadata": {},
            "source": [
                "# Pagina Web de ML con Streamlit"
            ]
        },
        {
            "cell_type": "code",
            "execution_count": 2,
            "metadata": {},
            "outputs": [
                {
                    "name": "stdout",
                    "output_type": "stream",
                    "text": [
                        "Defaulting to user installation because normal site-packages is not writeable\n",
                        "Collecting streamlit\n",
                        "  Downloading streamlit-1.28.2-py2.py3-none-any.whl (8.4 MB)\n",
                        "\u001b[2K     \u001b[90m━━━━━━━━━━━━━━━━━━━━━━━━━━━━━━━━━━━━━━━━\u001b[0m \u001b[32m8.4/8.4 MB\u001b[0m \u001b[31m61.6 MB/s\u001b[0m eta \u001b[36m0:00:00\u001b[0m:00:01\u001b[0m00:01\u001b[0m\n",
                        "\u001b[?25hCollecting altair<6,>=4.0 (from streamlit)\n",
                        "  Downloading altair-5.2.0-py3-none-any.whl (996 kB)\n",
                        "\u001b[2K     \u001b[90m━━━━━━━━━━━━━━━━━━━━━━━━━━━━━━━━━━━━━━\u001b[0m \u001b[32m996.9/996.9 kB\u001b[0m \u001b[31m28.0 MB/s\u001b[0m eta \u001b[36m0:00:00\u001b[0m00:01\u001b[0m\n",
                        "\u001b[?25hCollecting blinker<2,>=1.0.0 (from streamlit)\n",
                        "  Downloading blinker-1.7.0-py3-none-any.whl (13 kB)\n",
                        "Collecting cachetools<6,>=4.0 (from streamlit)\n",
                        "  Downloading cachetools-5.3.2-py3-none-any.whl (9.3 kB)\n",
                        "Collecting click<9,>=7.0 (from streamlit)\n",
                        "  Downloading click-8.1.7-py3-none-any.whl (97 kB)\n",
                        "\u001b[2K     \u001b[90m━━━━━━━━━━━━━━━━━━━━━━━━━━━━━━━━━━━━━━━━\u001b[0m \u001b[32m97.9/97.9 kB\u001b[0m \u001b[31m5.3 MB/s\u001b[0m eta \u001b[36m0:00:00\u001b[0m\n",
                        "\u001b[?25hCollecting importlib-metadata<7,>=1.4 (from streamlit)\n",
                        "  Downloading importlib_metadata-6.8.0-py3-none-any.whl (22 kB)\n",
                        "Requirement already satisfied: numpy<2,>=1.19.3 in /home/vscode/.local/lib/python3.11/site-packages (from streamlit) (1.26.2)\n",
                        "Requirement already satisfied: packaging<24,>=16.8 in /home/vscode/.local/lib/python3.11/site-packages (from streamlit) (23.2)\n",
                        "Requirement already satisfied: pandas<3,>=1.3.0 in /home/vscode/.local/lib/python3.11/site-packages (from streamlit) (2.1.3)\n",
                        "Requirement already satisfied: pillow<11,>=7.1.0 in /home/vscode/.local/lib/python3.11/site-packages (from streamlit) (10.1.0)\n",
                        "Collecting protobuf<5,>=3.20 (from streamlit)\n",
                        "  Downloading protobuf-4.25.1-cp37-abi3-manylinux2014_x86_64.whl (294 kB)\n",
                        "\u001b[2K     \u001b[90m━━━━━━━━━━━━━━━━━━━━━━━━━━━━━━━━━━━━━━\u001b[0m \u001b[32m294.6/294.6 kB\u001b[0m \u001b[31m14.1 MB/s\u001b[0m eta \u001b[36m0:00:00\u001b[0m\n",
                        "\u001b[?25hCollecting pyarrow>=6.0 (from streamlit)\n",
                        "  Downloading pyarrow-14.0.1-cp311-cp311-manylinux_2_28_x86_64.whl (38.0 MB)\n",
                        "\u001b[2K     \u001b[90m━━━━━━━━━━━━━━━━━━━━━━━━━━━━━━━━━━━━━━━━\u001b[0m \u001b[32m38.0/38.0 MB\u001b[0m \u001b[31m30.2 MB/s\u001b[0m eta \u001b[36m0:00:00\u001b[0m00:01\u001b[0m00:01\u001b[0m\n",
                        "\u001b[?25hRequirement already satisfied: python-dateutil<3,>=2.7.3 in /home/vscode/.local/lib/python3.11/site-packages (from streamlit) (2.8.2)\n",
                        "Requirement already satisfied: requests<3,>=2.27 in /home/vscode/.local/lib/python3.11/site-packages (from streamlit) (2.31.0)\n",
                        "Collecting rich<14,>=10.14.0 (from streamlit)\n",
                        "  Downloading rich-13.7.0-py3-none-any.whl (240 kB)\n",
                        "\u001b[2K     \u001b[90m━━━━━━━━━━━━━━━━━━━━━━━━━━━━━━━━━━━━━━━\u001b[0m \u001b[32m240.6/240.6 kB\u001b[0m \u001b[31m9.4 MB/s\u001b[0m eta \u001b[36m0:00:00\u001b[0m\n",
                        "\u001b[?25hCollecting tenacity<9,>=8.1.0 (from streamlit)\n",
                        "  Downloading tenacity-8.2.3-py3-none-any.whl (24 kB)\n",
                        "Collecting toml<2,>=0.10.1 (from streamlit)\n",
                        "  Downloading toml-0.10.2-py2.py3-none-any.whl (16 kB)\n",
                        "Requirement already satisfied: typing-extensions<5,>=4.3.0 in /home/vscode/.local/lib/python3.11/site-packages (from streamlit) (4.8.0)\n",
                        "Collecting tzlocal<6,>=1.1 (from streamlit)\n",
                        "  Downloading tzlocal-5.2-py3-none-any.whl (17 kB)\n",
                        "Collecting validators<1,>=0.2 (from streamlit)\n",
                        "  Downloading validators-0.22.0-py3-none-any.whl (26 kB)\n",
                        "Collecting gitpython!=3.1.19,<4,>=3.0.7 (from streamlit)\n",
                        "  Downloading GitPython-3.1.40-py3-none-any.whl (190 kB)\n",
                        "\u001b[2K     \u001b[90m━━━━━━━━━━━━━━━━━━━━━━━━━━━━━━━━━━━━━━━\u001b[0m \u001b[32m190.6/190.6 kB\u001b[0m \u001b[31m9.3 MB/s\u001b[0m eta \u001b[36m0:00:00\u001b[0m\n",
                        "\u001b[?25hCollecting pydeck<1,>=0.8.0b4 (from streamlit)\n",
                        "  Downloading pydeck-0.8.1b0-py2.py3-none-any.whl (4.8 MB)\n",
                        "\u001b[2K     \u001b[90m━━━━━━━━━━━━━━━━━━━━━━━━━━━━━━━━━━━━━━━━\u001b[0m \u001b[32m4.8/4.8 MB\u001b[0m \u001b[31m66.4 MB/s\u001b[0m eta \u001b[36m0:00:00\u001b[0m:00:01\u001b[0m\n",
                        "\u001b[?25hRequirement already satisfied: tornado<7,>=6.0.3 in /home/vscode/.local/lib/python3.11/site-packages (from streamlit) (6.4)\n",
                        "Collecting watchdog>=2.1.5 (from streamlit)\n",
                        "  Downloading watchdog-3.0.0-py3-none-manylinux2014_x86_64.whl (82 kB)\n",
                        "\u001b[2K     \u001b[90m━━━━━━━━━━━━━━━━━━━━━━━━━━━━━━━━━━━━━━━━\u001b[0m \u001b[32m82.1/82.1 kB\u001b[0m \u001b[31m4.1 MB/s\u001b[0m eta \u001b[36m0:00:00\u001b[0m\n",
                        "\u001b[?25hRequirement already satisfied: jinja2 in /home/vscode/.local/lib/python3.11/site-packages (from altair<6,>=4.0->streamlit) (3.1.2)\n",
                        "Collecting jsonschema>=3.0 (from altair<6,>=4.0->streamlit)\n",
                        "  Downloading jsonschema-4.20.0-py3-none-any.whl (84 kB)\n",
                        "\u001b[2K     \u001b[90m━━━━━━━━━━━━━━━━━━━━━━━━━━━━━━━━━━━━━━━━\u001b[0m \u001b[32m84.7/84.7 kB\u001b[0m \u001b[31m4.5 MB/s\u001b[0m eta \u001b[36m0:00:00\u001b[0m\n",
                        "\u001b[?25hCollecting toolz (from altair<6,>=4.0->streamlit)\n",
                        "  Downloading toolz-0.12.0-py3-none-any.whl (55 kB)\n",
                        "\u001b[2K     \u001b[90m━━━━━━━━━━━━━━━━━━━━━━━━━━━━━━━━━━━━━━━━\u001b[0m \u001b[32m55.8/55.8 kB\u001b[0m \u001b[31m2.8 MB/s\u001b[0m eta \u001b[36m0:00:00\u001b[0m\n",
                        "\u001b[?25hCollecting gitdb<5,>=4.0.1 (from gitpython!=3.1.19,<4,>=3.0.7->streamlit)\n",
                        "  Downloading gitdb-4.0.11-py3-none-any.whl (62 kB)\n",
                        "\u001b[2K     \u001b[90m━━━━━━━━━━━━━━━━━━━━━━━━━━━━━━━━━━━━━━━━\u001b[0m \u001b[32m62.7/62.7 kB\u001b[0m \u001b[31m3.3 MB/s\u001b[0m eta \u001b[36m0:00:00\u001b[0m\n",
                        "\u001b[?25hCollecting zipp>=0.5 (from importlib-metadata<7,>=1.4->streamlit)\n",
                        "  Downloading zipp-3.17.0-py3-none-any.whl (7.4 kB)\n",
                        "Requirement already satisfied: pytz>=2020.1 in /home/vscode/.local/lib/python3.11/site-packages (from pandas<3,>=1.3.0->streamlit) (2023.3.post1)\n",
                        "Requirement already satisfied: tzdata>=2022.1 in /home/vscode/.local/lib/python3.11/site-packages (from pandas<3,>=1.3.0->streamlit) (2023.3)\n",
                        "Requirement already satisfied: six>=1.5 in /home/vscode/.local/lib/python3.11/site-packages (from python-dateutil<3,>=2.7.3->streamlit) (1.16.0)\n",
                        "Requirement already satisfied: charset-normalizer<4,>=2 in /home/vscode/.local/lib/python3.11/site-packages (from requests<3,>=2.27->streamlit) (3.3.2)\n",
                        "Requirement already satisfied: idna<4,>=2.5 in /home/vscode/.local/lib/python3.11/site-packages (from requests<3,>=2.27->streamlit) (3.6)\n",
                        "Requirement already satisfied: urllib3<3,>=1.21.1 in /home/vscode/.local/lib/python3.11/site-packages (from requests<3,>=2.27->streamlit) (2.1.0)\n",
                        "Requirement already satisfied: certifi>=2017.4.17 in /home/vscode/.local/lib/python3.11/site-packages (from requests<3,>=2.27->streamlit) (2023.11.17)\n",
                        "Collecting markdown-it-py>=2.2.0 (from rich<14,>=10.14.0->streamlit)\n",
                        "  Downloading markdown_it_py-3.0.0-py3-none-any.whl (87 kB)\n",
                        "\u001b[2K     \u001b[90m━━━━━━━━━━━━━━━━━━━━━━━━━━━━━━━━━━━━━━━━\u001b[0m \u001b[32m87.5/87.5 kB\u001b[0m \u001b[31m4.6 MB/s\u001b[0m eta \u001b[36m0:00:00\u001b[0m\n",
                        "\u001b[?25hRequirement already satisfied: pygments<3.0.0,>=2.13.0 in /home/vscode/.local/lib/python3.11/site-packages (from rich<14,>=10.14.0->streamlit) (2.17.2)\n",
                        "Collecting smmap<6,>=3.0.1 (from gitdb<5,>=4.0.1->gitpython!=3.1.19,<4,>=3.0.7->streamlit)\n",
                        "  Downloading smmap-5.0.1-py3-none-any.whl (24 kB)\n",
                        "Requirement already satisfied: MarkupSafe>=2.0 in /home/vscode/.local/lib/python3.11/site-packages (from jinja2->altair<6,>=4.0->streamlit) (2.1.3)\n",
                        "Collecting attrs>=22.2.0 (from jsonschema>=3.0->altair<6,>=4.0->streamlit)\n",
                        "  Downloading attrs-23.1.0-py3-none-any.whl (61 kB)\n",
                        "\u001b[2K     \u001b[90m━━━━━━━━━━━━━━━━━━━━━━━━━━━━━━━━━━━━━━━━\u001b[0m \u001b[32m61.2/61.2 kB\u001b[0m \u001b[31m2.8 MB/s\u001b[0m eta \u001b[36m0:00:00\u001b[0m\n",
                        "\u001b[?25hCollecting jsonschema-specifications>=2023.03.6 (from jsonschema>=3.0->altair<6,>=4.0->streamlit)\n",
                        "  Downloading jsonschema_specifications-2023.11.1-py3-none-any.whl (17 kB)\n",
                        "Collecting referencing>=0.28.4 (from jsonschema>=3.0->altair<6,>=4.0->streamlit)\n",
                        "  Downloading referencing-0.31.0-py3-none-any.whl (25 kB)\n",
                        "Collecting rpds-py>=0.7.1 (from jsonschema>=3.0->altair<6,>=4.0->streamlit)\n",
                        "  Downloading rpds_py-0.13.1-cp311-cp311-manylinux_2_17_x86_64.manylinux2014_x86_64.whl (1.2 MB)\n",
                        "\u001b[2K     \u001b[90m━━━━━━━━━━━━━━━━━━━━━━━━━━━━━━━━━━━━━━━━\u001b[0m \u001b[32m1.2/1.2 MB\u001b[0m \u001b[31m35.3 MB/s\u001b[0m eta \u001b[36m0:00:00\u001b[0m:00:01\u001b[0m\n",
                        "\u001b[?25hCollecting mdurl~=0.1 (from markdown-it-py>=2.2.0->rich<14,>=10.14.0->streamlit)\n",
                        "  Downloading mdurl-0.1.2-py3-none-any.whl (10.0 kB)\n",
                        "Installing collected packages: zipp, watchdog, validators, tzlocal, toolz, toml, tenacity, smmap, rpds-py, pyarrow, protobuf, mdurl, click, cachetools, blinker, attrs, referencing, pydeck, markdown-it-py, importlib-metadata, gitdb, rich, jsonschema-specifications, gitpython, jsonschema, altair, streamlit\n",
                        "Successfully installed altair-5.2.0 attrs-23.1.0 blinker-1.7.0 cachetools-5.3.2 click-8.1.7 gitdb-4.0.11 gitpython-3.1.40 importlib-metadata-6.8.0 jsonschema-4.20.0 jsonschema-specifications-2023.11.1 markdown-it-py-3.0.0 mdurl-0.1.2 protobuf-4.25.1 pyarrow-14.0.1 pydeck-0.8.1b0 referencing-0.31.0 rich-13.7.0 rpds-py-0.13.1 smmap-5.0.1 streamlit-1.28.2 tenacity-8.2.3 toml-0.10.2 toolz-0.12.0 tzlocal-5.2 validators-0.22.0 watchdog-3.0.0 zipp-3.17.0\n",
                        "\n",
                        "\u001b[1m[\u001b[0m\u001b[34;49mnotice\u001b[0m\u001b[1;39;49m]\u001b[0m\u001b[39;49m A new release of pip is available: \u001b[0m\u001b[31;49m23.1.2\u001b[0m\u001b[39;49m -> \u001b[0m\u001b[32;49m23.3.1\u001b[0m\n",
                        "\u001b[1m[\u001b[0m\u001b[34;49mnotice\u001b[0m\u001b[1;39;49m]\u001b[0m\u001b[39;49m To update, run: \u001b[0m\u001b[32;49mpip install --upgrade pip\u001b[0m\n",
                        "Note: you may need to restart the kernel to use updated packages.\n"
                    ]
                }
            ],
            "source": [
                "pip install streamlit"
            ]
        },
        {
            "cell_type": "code",
            "execution_count": null,
            "metadata": {},
            "outputs": [],
            "source": []
        },
        {
            "cell_type": "code",
            "execution_count": 4,
            "metadata": {},
            "outputs": [
                {
                    "name": "stderr",
                    "output_type": "stream",
                    "text": [
                        "2023-11-29 19:38:34.912 \n",
                        "  \u001b[33m\u001b[1mWarning:\u001b[0m to view this Streamlit app on a browser, run it with the following\n",
                        "  command:\n",
                        "\n",
                        "    streamlit run /home/vscode/.local/lib/python3.11/site-packages/ipykernel_launcher.py [ARGUMENTS]\n"
                    ]
                }
            ],
            "source": [
                "import streamlit as st\n",
                "def buscar_jugador_similar(nombre, posicion, edad, habilidad):\n",
                "    # Aquí podrías tener una lógica más avanzada basada en tus criterios de búsqueda\n",
                "    # En este ejemplo, simplemente se devuelve un nombre aleatorio\n",
                "    nombres_similares = [\"Messi\", \"Ronaldo\", \"Neymar\", \"Mbappé\"]\n",
                "    return nombres_similares\n",
                "def main():\n",
                "    st.title(\"Buscador de Jugadores de Fútbol Similares\")\n",
                "    # Formulario para ingresar los criterios de búsqueda\n",
                "    nombre = st.text_input(\"Nombre del Jugador:\")\n",
                "    posicion = st.selectbox(\"Posición:\", [\"Delantero\", \"Centrocampista\", \"Defensa\", \"Portero\"])\n",
                "    edad = st.slider(\"Edad:\", min_value=18, max_value=40, value=25)\n",
                "    habilidad = st.slider(\"Habilidad (1-100):\", min_value=1, max_value=100, value=50)\n",
                "    # Botón para realizar la búsqueda\n",
                "    if st.button(\"Buscar Jugador Similar\"):\n",
                "        jugadores_similares = buscar_jugador_similar(nombre, posicion, edad, habilidad)\n",
                "        if jugadores_similares:\n",
                "            st.success(f\"Jugadores similares a {nombre}: {', '.join(jugadores_similares)}\")\n",
                "        else:\n",
                "            st.warning(\"No se encontraron jugadores similares.\")\n",
                "if __name__ == \"__main__\":\n",
                "    main()\n",
                "    main()"
            ]
        }
    ],
    "metadata": {
        "kernelspec": {
            "display_name": "Python 3.8.13 64-bit ('3.8.13')",
            "language": "python",
            "name": "python3"
        },
        "language_info": {
            "codemirror_mode": {
                "name": "ipython",
                "version": 3
            },
            "file_extension": ".py",
            "mimetype": "text/x-python",
            "name": "python",
            "nbconvert_exporter": "python",
            "pygments_lexer": "ipython3",
            "version": "3.11.4"
        },
        "orig_nbformat": 4,
        "vscode": {
            "interpreter": {
                "hash": "110cc1dee26208153f2972f08a2ad52b6a56238dc66d48e87fb757ef2996db56"
            }
        }
    },
    "nbformat": 4,
    "nbformat_minor": 2
}
